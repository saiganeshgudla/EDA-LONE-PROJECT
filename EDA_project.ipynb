{
  "nbformat": 4,
  "nbformat_minor": 0,
  "metadata": {
    "colab": {
      "provenance": [],
      "mount_file_id": "1kqyvp_QgPlYnUN0j0HoGkBO09re1D0FM",
      "authorship_tag": "ABX9TyN4IS98sTcK0pIYWwSXp1As",
      "include_colab_link": true
    },
    "kernelspec": {
      "name": "python3",
      "display_name": "Python 3"
    },
    "language_info": {
      "name": "python"
    }
  },
  "cells": [
    {
      "cell_type": "markdown",
      "metadata": {
        "id": "view-in-github",
        "colab_type": "text"
      },
      "source": [
        "<a href=\"https://colab.research.google.com/github/saiganeshgudla/EDA-LONE-PROJECT/blob/main/EDA_project.ipynb\" target=\"_parent\"><img src=\"https://colab.research.google.com/assets/colab-badge.svg\" alt=\"Open In Colab\"/></a>"
      ]
    },
    {
      "cell_type": "markdown",
      "source": [],
      "metadata": {
        "id": "IBfcKxfLrjxJ"
      }
    },
    {
      "cell_type": "code",
      "source": [
        "import pandas as pd\n",
        "import numpy as np\n",
        "import matplotlib.pyplot as plt\n",
        "import seaborn as sns"
      ],
      "metadata": {
        "id": "rWdhOVuPuBLQ"
      },
      "execution_count": null,
      "outputs": []
    },
    {
      "cell_type": "markdown",
      "source": [
        "LONE DATA"
      ],
      "metadata": {
        "id": "YhpY42kRrvhd"
      }
    },
    {
      "cell_type": "code",
      "source": [
        "df = pd.read_csv(\"/content/drive/MyDrive/lone/Loan 2.csv\")"
      ],
      "metadata": {
        "id": "XbQ6PWcurxxj"
      },
      "execution_count": null,
      "outputs": []
    },
    {
      "cell_type": "code",
      "source": [
        "print(df)"
      ],
      "metadata": {
        "colab": {
          "base_uri": "https://localhost:8080/"
        },
        "id": "L92gdnyCuZa6",
        "outputId": "2d005e93-471b-4cf1-bcaa-d49649a74e21"
      },
      "execution_count": null,
      "outputs": [
        {
          "output_type": "stream",
          "name": "stdout",
          "text": [
            "      Customer ID               Name Gender  Age  Income (USD)  \\\n",
            "0         C-36995   Frederica Shealy      F   56       1933.05   \n",
            "1         C-33999  America Calderone      M   32       4952.91   \n",
            "2          C-3770      Rosetta Verne      F   65        988.19   \n",
            "3         C-26480         Zoe Chitty      F   65           NaN   \n",
            "4         C-23459       Afton Venema      F   31       2614.77   \n",
            "...           ...                ...    ...  ...           ...   \n",
            "29995     C-43723  Angelyn Clevenger      M   38       4969.41   \n",
            "29996     C-32511       Silas Slaugh      M   20       1606.88   \n",
            "29997      C-5192       Carmelo Lone      F   49           NaN   \n",
            "29998     C-12172      Carolann Osby      M   38       2417.71   \n",
            "29999     C-33003  Bridget Garibaldi      F   63       3068.24   \n",
            "\n",
            "      Income Stability            Profession     Type of Employment  \\\n",
            "0                  Low               Working            Sales staff   \n",
            "1                  Low               Working                    NaN   \n",
            "2                 High             Pensioner                    NaN   \n",
            "3                 High             Pensioner                    NaN   \n",
            "4                  Low               Working  High skill tech staff   \n",
            "...                ...                   ...                    ...   \n",
            "29995              Low  Commercial associate               Managers   \n",
            "29996              Low               Working               Laborers   \n",
            "29997              Low               Working            Sales staff   \n",
            "29998              Low               Working         Security staff   \n",
            "29999             High             Pensioner                    NaN   \n",
            "\n",
            "         Location  Loan Amount Request (USD)  ...  Credit Score  \\\n",
            "0      Semi-Urban                   72809.58  ...        809.44   \n",
            "1      Semi-Urban                   46837.47  ...        780.40   \n",
            "2      Semi-Urban                   45593.04  ...        833.15   \n",
            "3           Rural                   80057.92  ...        832.70   \n",
            "4      Semi-Urban                  113858.89  ...        745.55   \n",
            "...           ...                        ...  ...           ...   \n",
            "29995       Urban                   76657.90  ...        869.61   \n",
            "29996  Semi-Urban                   66595.14  ...        729.41   \n",
            "29997       Urban                   81410.08  ...           NaN   \n",
            "29998  Semi-Urban                  142524.10  ...        677.27   \n",
            "29999       Rural                  156290.54  ...        815.44   \n",
            "\n",
            "      No. of Defaults Has Active Credit Card  Property ID  Property Age  \\\n",
            "0                   0                    NaN          746       1933.05   \n",
            "1                   0            Unpossessed          608       4952.91   \n",
            "2                   0            Unpossessed          546        988.19   \n",
            "3                   1            Unpossessed          890           NaN   \n",
            "4                   1                 Active          715       2614.77   \n",
            "...               ...                    ...          ...           ...   \n",
            "29995               0            Unpossessed          566       4969.41   \n",
            "29996               0               Inactive          175       1606.88   \n",
            "29997               0                 Active          959           NaN   \n",
            "29998               1            Unpossessed          375       2417.71   \n",
            "29999               0                 Active          344       3068.24   \n",
            "\n",
            "       Property Type Property Location  Co-Applicant  Property Price  \\\n",
            "0                  4             Rural             1       119933.46   \n",
            "1                  2             Rural             1        54791.00   \n",
            "2                  2             Urban             0        72440.58   \n",
            "3                  2        Semi-Urban             1       121441.51   \n",
            "4                  4        Semi-Urban             1       208567.91   \n",
            "...              ...               ...           ...             ...   \n",
            "29995              4             Urban             1       111096.56   \n",
            "29996              3             Urban             1        73453.94   \n",
            "29997              1             Rural             1       102108.02   \n",
            "29998              4             Urban             1       168194.47   \n",
            "29999              3             Rural             1       194512.60   \n",
            "\n",
            "       Loan Sanction Amount (USD)  \n",
            "0                        54607.18  \n",
            "1                        37469.98  \n",
            "2                        36474.43  \n",
            "3                        56040.54  \n",
            "4                        74008.28  \n",
            "...                           ...  \n",
            "29995                    68992.11  \n",
            "29996                    46616.60  \n",
            "29997                    61057.56  \n",
            "29998                    99766.87  \n",
            "29999                   117217.90  \n",
            "\n",
            "[30000 rows x 24 columns]\n"
          ]
        }
      ]
    },
    {
      "cell_type": "markdown",
      "source": [
        "# STUDY DATA"
      ],
      "metadata": {
        "id": "DHUik-60ugH3"
      }
    },
    {
      "cell_type": "code",
      "source": [
        "print(df.head())"
      ],
      "metadata": {
        "colab": {
          "base_uri": "https://localhost:8080/"
        },
        "id": "DNR-VWp0unLp",
        "outputId": "3ddee972-b713-4b8d-d389-fc91ecb8614b"
      },
      "execution_count": null,
      "outputs": [
        {
          "output_type": "stream",
          "name": "stdout",
          "text": [
            "  Customer ID               Name Gender  Age  Income (USD) Income Stability  \\\n",
            "0     C-36995   Frederica Shealy      F   56       1933.05              Low   \n",
            "1     C-33999  America Calderone      M   32       4952.91              Low   \n",
            "2      C-3770      Rosetta Verne      F   65        988.19             High   \n",
            "3     C-26480         Zoe Chitty      F   65           NaN             High   \n",
            "4     C-23459       Afton Venema      F   31       2614.77              Low   \n",
            "\n",
            "  Profession     Type of Employment    Location  Loan Amount Request (USD)  \\\n",
            "0    Working            Sales staff  Semi-Urban                   72809.58   \n",
            "1    Working                    NaN  Semi-Urban                   46837.47   \n",
            "2  Pensioner                    NaN  Semi-Urban                   45593.04   \n",
            "3  Pensioner                    NaN       Rural                   80057.92   \n",
            "4    Working  High skill tech staff  Semi-Urban                  113858.89   \n",
            "\n",
            "   ...  Credit Score No. of Defaults Has Active Credit Card  Property ID  \\\n",
            "0  ...        809.44               0                    NaN          746   \n",
            "1  ...        780.40               0            Unpossessed          608   \n",
            "2  ...        833.15               0            Unpossessed          546   \n",
            "3  ...        832.70               1            Unpossessed          890   \n",
            "4  ...        745.55               1                 Active          715   \n",
            "\n",
            "   Property Age  Property Type Property Location  Co-Applicant  \\\n",
            "0       1933.05              4             Rural             1   \n",
            "1       4952.91              2             Rural             1   \n",
            "2        988.19              2             Urban             0   \n",
            "3           NaN              2        Semi-Urban             1   \n",
            "4       2614.77              4        Semi-Urban             1   \n",
            "\n",
            "   Property Price  Loan Sanction Amount (USD)  \n",
            "0       119933.46                    54607.18  \n",
            "1        54791.00                    37469.98  \n",
            "2        72440.58                    36474.43  \n",
            "3       121441.51                    56040.54  \n",
            "4       208567.91                    74008.28  \n",
            "\n",
            "[5 rows x 24 columns]\n"
          ]
        }
      ]
    },
    {
      "cell_type": "code",
      "source": [
        "print(df.info())"
      ],
      "metadata": {
        "colab": {
          "base_uri": "https://localhost:8080/"
        },
        "id": "WO0Qm6sXu5nD",
        "outputId": "cb82f05a-84e9-445f-847c-e4a570ea34cc"
      },
      "execution_count": null,
      "outputs": [
        {
          "output_type": "stream",
          "name": "stdout",
          "text": [
            "<class 'pandas.core.frame.DataFrame'>\n",
            "RangeIndex: 30000 entries, 0 to 29999\n",
            "Data columns (total 24 columns):\n",
            " #   Column                       Non-Null Count  Dtype  \n",
            "---  ------                       --------------  -----  \n",
            " 0   Customer ID                  30000 non-null  object \n",
            " 1   Name                         30000 non-null  object \n",
            " 2   Gender                       29947 non-null  object \n",
            " 3   Age                          30000 non-null  int64  \n",
            " 4   Income (USD)                 25424 non-null  float64\n",
            " 5   Income Stability             28317 non-null  object \n",
            " 6   Profession                   30000 non-null  object \n",
            " 7   Type of Employment           22730 non-null  object \n",
            " 8   Location                     30000 non-null  object \n",
            " 9   Loan Amount Request (USD)    30000 non-null  float64\n",
            " 10  Current Loan Expenses (USD)  29828 non-null  float64\n",
            " 11  Expense Type 1               30000 non-null  object \n",
            " 12  Expense Type 2               30000 non-null  object \n",
            " 13  Dependents                   27507 non-null  float64\n",
            " 14  Credit Score                 28297 non-null  float64\n",
            " 15  No. of Defaults              30000 non-null  int64  \n",
            " 16  Has Active Credit Card       28434 non-null  object \n",
            " 17  Property ID                  30000 non-null  int64  \n",
            " 18  Property Age                 25150 non-null  float64\n",
            " 19  Property Type                30000 non-null  int64  \n",
            " 20  Property Location            29644 non-null  object \n",
            " 21  Co-Applicant                 30000 non-null  int64  \n",
            " 22  Property Price               30000 non-null  float64\n",
            " 23  Loan Sanction Amount (USD)   29660 non-null  float64\n",
            "dtypes: float64(8), int64(5), object(11)\n",
            "memory usage: 5.5+ MB\n",
            "None\n"
          ]
        }
      ]
    },
    {
      "cell_type": "code",
      "source": [
        "print(df.describe())"
      ],
      "metadata": {
        "colab": {
          "base_uri": "https://localhost:8080/"
        },
        "id": "u-ZY89eGvFhA",
        "outputId": "a227b48f-62e0-4596-fae8-d8fee626c8a5"
      },
      "execution_count": null,
      "outputs": [
        {
          "output_type": "stream",
          "name": "stdout",
          "text": [
            "                Age  Income (USD)  Loan Amount Request (USD)  \\\n",
            "count  30000.000000  2.542400e+04               30000.000000   \n",
            "mean      40.092300  2.630574e+03               88826.333855   \n",
            "std       16.045129  1.126272e+04               59536.949605   \n",
            "min       18.000000  3.777000e+02                6048.240000   \n",
            "25%       25.000000  1.650457e+03               41177.755000   \n",
            "50%       40.000000  2.222435e+03               75128.075000   \n",
            "75%       55.000000  3.090593e+03              119964.605000   \n",
            "max       65.000000  1.777460e+06              621497.820000   \n",
            "\n",
            "       Current Loan Expenses (USD)    Dependents  Credit Score  \\\n",
            "count                 29828.000000  27507.000000  28297.000000   \n",
            "mean                    400.936876      2.253027    739.885381   \n",
            "std                     242.545375      0.951162     72.163846   \n",
            "min                    -999.000000      1.000000    580.000000   \n",
            "25%                     247.667500      2.000000    681.880000   \n",
            "50%                     375.205000      2.000000    739.820000   \n",
            "75%                     521.292500      3.000000    799.120000   \n",
            "max                    3840.880000     14.000000    896.260000   \n",
            "\n",
            "       No. of Defaults   Property ID  Property Age  Property Type  \\\n",
            "count     30000.000000  30000.000000  2.515000e+04   30000.000000   \n",
            "mean          0.193933    501.934700  2.631119e+03       2.460067   \n",
            "std           0.395384    288.158086  1.132268e+04       1.118562   \n",
            "min           0.000000      1.000000  3.777000e+02       1.000000   \n",
            "25%           0.000000    251.000000  1.650450e+03       1.000000   \n",
            "50%           0.000000    504.000000  2.223250e+03       2.000000   \n",
            "75%           0.000000    751.000000  3.091408e+03       3.000000   \n",
            "max           1.000000    999.000000  1.777460e+06       4.000000   \n",
            "\n",
            "       Co-Applicant  Property Price  Loan Sanction Amount (USD)  \n",
            "count  30000.000000    3.000000e+04                29660.000000  \n",
            "mean      -4.743867    1.317597e+05                47649.342208  \n",
            "std       74.614593    9.354955e+04                48221.146686  \n",
            "min     -999.000000   -9.990000e+02                 -999.000000  \n",
            "25%        1.000000    6.057216e+04                    0.000000  \n",
            "50%        1.000000    1.099936e+05                35209.395000  \n",
            "75%        1.000000    1.788807e+05                74261.250000  \n",
            "max        1.000000    1.077967e+06               481907.320000  \n"
          ]
        }
      ]
    },
    {
      "cell_type": "markdown",
      "source": [
        "# NULL VALUES"
      ],
      "metadata": {
        "id": "yhgztFE2vTI1"
      }
    },
    {
      "cell_type": "code",
      "source": [
        "print(df.isnull().sum())"
      ],
      "metadata": {
        "colab": {
          "base_uri": "https://localhost:8080/"
        },
        "id": "TZSRVafqvX8x",
        "outputId": "2a476de3-4a8d-43b3-f709-f5a12c9a46c7"
      },
      "execution_count": null,
      "outputs": [
        {
          "output_type": "stream",
          "name": "stdout",
          "text": [
            "Customer ID                       0\n",
            "Name                              0\n",
            "Gender                           53\n",
            "Age                               0\n",
            "Income (USD)                   4576\n",
            "Income Stability               1683\n",
            "Profession                        0\n",
            "Type of Employment             7270\n",
            "Location                          0\n",
            "Loan Amount Request (USD)         0\n",
            "Current Loan Expenses (USD)     172\n",
            "Expense Type 1                    0\n",
            "Expense Type 2                    0\n",
            "Dependents                     2493\n",
            "Credit Score                   1703\n",
            "No. of Defaults                   0\n",
            "Has Active Credit Card         1566\n",
            "Property ID                       0\n",
            "Property Age                   4850\n",
            "Property Type                     0\n",
            "Property Location               356\n",
            "Co-Applicant                      0\n",
            "Property Price                    0\n",
            "Loan Sanction Amount (USD)      340\n",
            "dtype: int64\n"
          ]
        }
      ]
    },
    {
      "cell_type": "markdown",
      "source": [
        "0 null values in the csv file"
      ],
      "metadata": {
        "id": "ozJe7AIkvnFX"
      }
    },
    {
      "cell_type": "code",
      "source": [
        "# Handling outliers\n",
        "\n",
        "# Identify numerical columns\n",
        "numerical_cols = df.select_dtypes(include=[np.number]).columns.tolist()\n",
        "\n",
        "# Function to identify outliers using IQR\n",
        "def identify_outliers_iqr(df, column):\n",
        "    Q1 = df[column].quantile(0.25)\n",
        "    Q3 = df[column].quantile(0.75)\n",
        "    IQR = Q3 - Q1\n",
        "    lower_bound = Q1 - 1.5 * IQR\n",
        "    upper_bound = Q3 + 1.5 * IQR\n",
        "    outliers = df[(df[column] < lower_bound) | (df[column] > upper_bound)]\n",
        "    return outliers, lower_bound, upper_bound\n",
        "\n",
        "# Function to handle outliers by replacing them with the median (IQR method)\n",
        "def handle_outliers_iqr(df, column):\n",
        "    Q1 = df[column].quantile(0.25)\n",
        "    Q3 = df[column].quantile(0.75)\n",
        "    IQR = Q3 - Q1\n",
        "    lower_bound = Q1 - 1.5 * IQR\n",
        "    upper_bound = Q3 + 1.5 * IQR\n",
        "    median_value = df[column].median()\n",
        "    df[column] = np.where((df[column] < lower_bound) | (df[column] > upper_bound), median_value, df[column])\n",
        "    return df\n",
        "\n",
        "# Apply this function to each numerical column\n",
        "for column in numerical_cols:\n",
        "    outliers, lower_bound, upper_bound = identify_outliers_iqr(df, column)\n",
        "    if not outliers.empty:\n",
        "        df = handle_outliers_iqr(df, column)"
      ],
      "metadata": {
        "id": "bF3Ii0eYyQ02"
      },
      "execution_count": null,
      "outputs": []
    },
    {
      "cell_type": "code",
      "source": [
        "# 'data' is our processed DataFrame\n",
        "output_file_path = 'processed_EDA_Loan.csv'\n",
        "\n",
        "# Save the DataFrame to a CSV file\n",
        "df.to_csv(output_file_path, index=False)\n",
        "\n",
        "print(f\"Processed data has been saved to {output_file_path}\")"
      ],
      "metadata": {
        "colab": {
          "base_uri": "https://localhost:8080/"
        },
        "id": "aZN9VfL9yU3T",
        "outputId": "decd67f8-bf34-4f88-8cff-0e86f69fac8c"
      },
      "execution_count": null,
      "outputs": [
        {
          "output_type": "stream",
          "name": "stdout",
          "text": [
            "Processed data has been saved to processed_EDA_Loan.csv\n"
          ]
        }
      ]
    }
  ]
}